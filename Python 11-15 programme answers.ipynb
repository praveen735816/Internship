{
 "cells": [
  {
   "cell_type": "markdown",
   "metadata": {},
   "source": [
    "12.Write a python program to find whether a number is prime or composite.\n",
    "\n",
    "Rule no 1: exception handling for given numbers less than 1.\n",
    "Rule no 2: exception handling for given decimal numbers."
   ]
  },
  {
   "cell_type": "code",
   "execution_count": 1,
   "metadata": {},
   "outputs": [],
   "source": [
    "def PR_CMPT():\n",
    "    try:\n",
    "        n=int(input(\"Enter the Number\"))\n",
    "        if(n<=0):\n",
    "            print(\"Please Enter a number greater than zero\")\n",
    "            raise TypeError\n",
    "        else:\n",
    "            r=range(2,n)\n",
    "            if(n<=3):\n",
    "                print(\"you entered number {} is prime\".format(n))\n",
    "            else:\n",
    "                for i in r:\n",
    "                    if(n%i==0):\n",
    "                        print(\"the number {} is composite, it is divisible by {}\".format(n, i))\n",
    "                        break\n",
    "                else:\n",
    "                    print(\"the number {} is prime! because it is not divisible by any of its preceding number other than 1\".format(n))\n",
    "\n",
    "\n",
    "    except ValueError:\n",
    "        print(\"Please don't enter decimal numbers\")\n",
    "\n",
    "        "
   ]
  },
  {
   "cell_type": "markdown",
   "metadata": {},
   "source": [
    " P_C()"
   ]
  },
  {
   "cell_type": "code",
   "execution_count": 2,
   "metadata": {},
   "outputs": [
    {
     "name": "stdout",
     "output_type": "stream",
     "text": [
      "Enter the Number78\n",
      "the number 78 is composite, it is divisible by 2\n"
     ]
    }
   ],
   "source": [
    "PR_CMPT()"
   ]
  },
  {
   "cell_type": "code",
   "execution_count": 3,
   "metadata": {},
   "outputs": [
    {
     "name": "stdout",
     "output_type": "stream",
     "text": [
      "the given word is palendrom\n"
     ]
    }
   ],
   "source": [
    "b=a=\"psd\"\n",
    "a=a.upper()\n",
    "b=b.upper()\n",
    "if(a==b):\n",
    "    print(\"the given word is palendrom\")"
   ]
  },
  {
   "cell_type": "markdown",
   "metadata": {},
   "source": [
    "13.Write a python program to check whether a given string is palindrome or not."
   ]
  },
  {
   "cell_type": "code",
   "execution_count": 4,
   "metadata": {},
   "outputs": [
    {
     "name": "stdout",
     "output_type": "stream",
     "text": [
      "Enter the word\n",
      "Given Word is Palindrome\n"
     ]
    }
   ],
   "source": [
    "s1=str(input(\"Enter the word\"))\n",
    "s1=s1.upper()\n",
    "s2=s1[::-1]\n",
    "if(s1==s2):\n",
    "    print(\"Given Word is Palindrome\")\n",
    "else:\n",
    "    print(\"Given Word is not Palindrome\")"
   ]
  },
  {
   "cell_type": "markdown",
   "metadata": {},
   "source": [
    "11.Write a python program to find the factorial of a number."
   ]
  },
  {
   "cell_type": "code",
   "execution_count": 5,
   "metadata": {},
   "outputs": [
    {
     "name": "stdout",
     "output_type": "stream",
     "text": [
      "Enter the Number8\n",
      "The factorial of 8 is 40320\n"
     ]
    }
   ],
   "source": [
    "n=int(input(\"Enter the Number\"))\n",
    "import math\n",
    "print(\"The factorial of {} is\".format(n),math.factorial(n))"
   ]
  },
  {
   "cell_type": "code",
   "execution_count": 6,
   "metadata": {},
   "outputs": [
    {
     "name": "stdout",
     "output_type": "stream",
     "text": [
      "Enter the Number9\n",
      "The factorial of 9 is 362880\n"
     ]
    }
   ],
   "source": [
    "n=int(input(\"Enter the Number\"))\n",
    "if(n==0 or n==1):\n",
    "    print(\"The factorial of {} is\".format(n),1)\n",
    "else:\n",
    "    f=1\n",
    "    r=range(2,n+1)\n",
    "    for i in r:\n",
    "        f=f*i\n",
    "    print(\"The factorial of {} is\".format(n), f)\n",
    "        "
   ]
  },
  {
   "cell_type": "markdown",
   "metadata": {},
   "source": [
    "14. Write a Python program to get the third side of right-angled triangle from two given sides."
   ]
  },
  {
   "cell_type": "code",
   "execution_count": null,
   "metadata": {},
   "outputs": [
    {
     "name": "stdout",
     "output_type": "stream",
     "text": [
      "Enter the 1st side of triangle9\n"
     ]
    }
   ],
   "source": [
    "s1=float(input(\"Enter the 1st side of triangle\"))\n",
    "s2=float(input(\"Enter the 2nd side of triangle\"))\n",
    "import math\n",
    "s3=round(math.sqrt(math.pow(s1,2)+math.pow(s2,2)),2)\n",
    "print(\"the hypothenius of the triangle is {}\".format(s3))"
   ]
  },
  {
   "cell_type": "markdown",
   "metadata": {},
   "source": [
    "15. Write a python program to print the frequency of each of the characters present in a given string."
   ]
  },
  {
   "cell_type": "code",
   "execution_count": null,
   "metadata": {},
   "outputs": [],
   "source": [
    "chr(97), chr(123)"
   ]
  },
  {
   "cell_type": "code",
   "execution_count": 6,
   "metadata": {},
   "outputs": [
    {
     "name": "stdout",
     "output_type": "stream",
     "text": [
      "Enter the word  madam\n",
      "frequecy of  A is 2\n",
      "frequecy of  D is 1\n",
      "frequecy of  M is 2\n"
     ]
    }
   ],
   "source": [
    "w=str(input(\"Enter the word  \"))\n",
    "w=w.upper()\n",
    "r=range(65,91)\n",
    "for i in r:\n",
    "    k=0\n",
    "    n=chr(i)\n",
    "    for j in w:\n",
    "        if(j==n):\n",
    "            k=k+1\n",
    "    if(k>=1):\n",
    "        print(\"frequecy of \",n,\"is\",k)\n"
   ]
  },
  {
   "cell_type": "code",
   "execution_count": null,
   "metadata": {},
   "outputs": [],
   "source": []
  }
 ],
 "metadata": {
  "kernelspec": {
   "display_name": "Python 3",
   "language": "python",
   "name": "python3"
  },
  "language_info": {
   "codemirror_mode": {
    "name": "ipython",
    "version": 3
   },
   "file_extension": ".py",
   "mimetype": "text/x-python",
   "name": "python",
   "nbconvert_exporter": "python",
   "pygments_lexer": "ipython3",
   "version": "3.8.5"
  }
 },
 "nbformat": 4,
 "nbformat_minor": 4
}
