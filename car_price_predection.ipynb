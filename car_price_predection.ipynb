{
 "cells": [
  {
   "cell_type": "code",
   "execution_count": null,
   "id": "f196b3fb",
   "metadata": {},
   "outputs": [],
   "source": [
    "!pip install selenium"
   ]
  },
  {
   "cell_type": "code",
   "execution_count": 107,
   "id": "904fb43c",
   "metadata": {},
   "outputs": [],
   "source": [
    "import selenium, pandas as pd\n",
    "import time\n",
    "from selenium.webdriver import ActionChains\n",
    "from selenium.webdriver.common.keys import Keys"
   ]
  },
  {
   "cell_type": "code",
   "execution_count": 108,
   "id": "e9eb5f4c",
   "metadata": {},
   "outputs": [
    {
     "name": "stdout",
     "output_type": "stream",
     "text": [
      "['ADD', 'ALT', 'ARROW_DOWN', 'ARROW_LEFT', 'ARROW_RIGHT', 'ARROW_UP', 'BACKSPACE', 'BACK_SPACE', 'CANCEL', 'CLEAR', 'COMMAND', 'CONTROL', 'DECIMAL', 'DELETE', 'DIVIDE', 'DOWN', 'END', 'ENTER', 'EQUALS', 'ESCAPE', 'F1', 'F10', 'F11', 'F12', 'F2', 'F3', 'F4', 'F5', 'F6', 'F7', 'F8', 'F9', 'HELP', 'HOME', 'INSERT', 'LEFT', 'LEFT_ALT', 'LEFT_CONTROL', 'LEFT_SHIFT', 'META', 'MULTIPLY', 'NULL', 'NUMPAD0', 'NUMPAD1', 'NUMPAD2', 'NUMPAD3', 'NUMPAD4', 'NUMPAD5', 'NUMPAD6', 'NUMPAD7', 'NUMPAD8', 'NUMPAD9', 'PAGE_DOWN', 'PAGE_UP', 'PAUSE', 'RETURN', 'RIGHT', 'SEMICOLON', 'SEPARATOR', 'SHIFT', 'SPACE', 'SUBTRACT', 'TAB', 'UP', '__class__', '__delattr__', '__dict__', '__dir__', '__doc__', '__eq__', '__format__', '__ge__', '__getattribute__', '__gt__', '__hash__', '__init__', '__init_subclass__', '__le__', '__lt__', '__module__', '__ne__', '__new__', '__reduce__', '__reduce_ex__', '__repr__', '__setattr__', '__sizeof__', '__str__', '__subclasshook__', '__weakref__']\n"
     ]
    }
   ],
   "source": [
    "print(dir(Keys))"
   ]
  },
  {
   "cell_type": "code",
   "execution_count": null,
   "id": "8733be75",
   "metadata": {},
   "outputs": [],
   "source": [
    "ActionChains.key_up?"
   ]
  },
  {
   "cell_type": "code",
   "execution_count": null,
   "id": "aa48fd08",
   "metadata": {},
   "outputs": [],
   "source": [
    "import warnings\n",
    "warnings.filterwarnings('ignore')"
   ]
  },
  {
   "cell_type": "code",
   "execution_count": null,
   "id": "282ea11e",
   "metadata": {},
   "outputs": [],
   "source": [
    "from selenium import webdriver"
   ]
  },
  {
   "cell_type": "code",
   "execution_count": 130,
   "id": "ed1dcd85",
   "metadata": {},
   "outputs": [],
   "source": [
    "#Chrome web driver location provided for selenium automation works \n",
    "driver=webdriver.Chrome(r\"C:\\Users\\smahi\\Downloads\\chromedriver_win32\\chromedriver.exe\")\n",
    "#opening the olx web link through the chrome driver\n",
    "driver.get('https://www.olx.in/')\n",
    "#finding the xpath for cars\n",
    "car=driver.find_element_by_xpath(\"//div[@class='_2xg5B']/div[@class='_3AGJR _18NX_']/a[@class='_2fitb']\")\n",
    "#clicking on the 'cars'\n",
    "car.click()\n",
    "time.sleep(5)"
   ]
  },
  {
   "cell_type": "code",
   "execution_count": null,
   "id": "a23d44e1",
   "metadata": {
    "scrolled": true
   },
   "outputs": [],
   "source": [
    "# getting the state names from the olx website\n",
    "location=driver.find_elements_by_xpath('//a[@class=\"_396bV _2zs4P _1nXYG\"]')\n",
    "prices=[]\n",
    "date=[]\n",
    "area=[]\n",
    "company=[]\n",
    "name=[]\n",
    "year=[]\n",
    "km=[]\n",
    "state=[]\n",
    "for i in range(1,len(location)):\n",
    "    if i<=5:\n",
    "        k=driver.find_element_by_xpath('//ul[@class=\"_3eZBP\"]/li['+str(i)+']/a[@class=\"_396bV _2zs4P _1nXYG\"]')\n",
    "    else:\n",
    "        j=i-5\n",
    "        print(j)\n",
    "        k=driver.find_element_by_xpath('//div[1]/li['+str(j)+']/a[@class=\"_396bV _2zs4P _1nXYG\"]')\n",
    "    #state name\n",
    "    St=location[i-1].text.split()[0]\n",
    "    #no of cars in that state were posted for add \n",
    "    nc=location[i-1].text.split()[1].replace('(','').replace(')','')\n",
    "    Nc=''\n",
    "    for j in nc.split(','):\n",
    "        Nc=Nc+j\n",
    "    Nc\n",
    "    #clicking on that specfic state for going to collect the car details\n",
    "    k.click()\n",
    "    time.sleep(5)\n",
    "    if int(Nc)<=1000:\n",
    "        M=int(Nc)\n",
    "    else:\n",
    "        M=1000\n",
    "    while len(prices)<10:\n",
    "        # finding the car price tag\n",
    "        price=driver.find_elements_by_xpath('//div[@class=\"_31uw8\"]/span[@class=\"_3GOwr\"]')\n",
    "        for i in price:\n",
    "            prices.append(i.text.split(' ')[1])\n",
    "        # collecting the company name and car name tag\n",
    "        cn=driver.find_elements_by_xpath('//div[@class=\"_31uw8\"]/div[@class=\"_4aNdc\"]')\n",
    "        for i in cn:\n",
    "            if i.text.split(' ')[0]=='Maruti':\n",
    "                company.append('Maruti Suzuki')\n",
    "                I=''\n",
    "                for i in i.text.split(' ')[2:]:\n",
    "                    I=I+i+' '\n",
    "                    I.strip()\n",
    "                name.append(I.strip())\n",
    "            else:\n",
    "                company.append(i.text.split(' ')[0])\n",
    "                I=''\n",
    "                for i in i.text.split(' ')[1:]:\n",
    "                    I=I+i+' '\n",
    "                name.append(I.strip())\n",
    "        #finding the year and kilometers driven tag\n",
    "        yk=driver.find_elements_by_xpath('//div[@class=\"_31uw8\"]/div[@class=\"KFHpP\"]')\n",
    "        for i in yk:\n",
    "            year.append(i.text.split()[0])\n",
    "            km.append(i.text.split()[-2])\n",
    "        #finding the area and date of add posted tags\n",
    "        ad=driver.find_elements_by_xpath('//div[@class=\"_31uw8\"]/div[@class=\"_1zvfB\"]')\n",
    "        for i in ad:\n",
    "            area.append(i.text.split('\\n')[0])\n",
    "            state.append(St)\n",
    "            try:\n",
    "                date.append(i.text.split('\\n')[1])\n",
    "            except IndexError:\n",
    "                date.append('no date') \n",
    "        # finding the tag for next page button\n",
    "        np=driver.find_element_by_xpath('//button[@class=\"rui-39-wj rui-3evoE rui-1JPTg\"]')\n",
    "        #clicking on the next page button\n",
    "        np.click()\n",
    "        time.sleep(5)\n",
    "        print(len(prices))\n",
    "driver.find_element_by_xpath('//div[@class=\"_3zgcG\"]').click()\n",
    "        "
   ]
  },
  {
   "cell_type": "code",
   "execution_count": 155,
   "id": "a4cb5d51",
   "metadata": {},
   "outputs": [
    {
     "name": "stdout",
     "output_type": "stream",
     "text": [
      "40\n",
      "80\n",
      "120\n",
      "200\n",
      "240\n",
      "320\n",
      "440\n",
      "480\n",
      "560\n",
      "680\n",
      "840\n",
      "1\n",
      "880\n",
      "960\n",
      "1080\n",
      "1240\n",
      "1440\n",
      "1679\n",
      "2\n",
      "1719\n",
      "1799\n",
      "1919\n",
      "2079\n",
      "2278\n",
      "2517\n",
      "2796\n",
      "3115\n",
      "3474\n",
      "3\n",
      "3514\n",
      "3594\n",
      "3713\n",
      "3872\n",
      "4071\n",
      "4310\n",
      "4588\n",
      "4905\n",
      "5262\n",
      "5659\n",
      "6096\n"
     ]
    },
    {
     "ename": "WebDriverException",
     "evalue": "Message: disconnected: Unable to receive message from renderer\n  (Session info: chrome=97.0.4692.71)\nStacktrace:\nBacktrace:\n\tOrdinal0 [0x00BEFDC3+2555331]\n\tOrdinal0 [0x00B877F1+2127857]\n\tOrdinal0 [0x00A82E08+1060360]\n\tOrdinal0 [0x00A75461+1004641]\n\tOrdinal0 [0x00A743FA+1000442]\n\tOrdinal0 [0x00A747C7+1001415]\n\tOrdinal0 [0x00A8ABC0+1092544]\n\tOrdinal0 [0x00A8505B+1069147]\n\tOrdinal0 [0x00A84BD5+1067989]\n\tOrdinal0 [0x00A853AB+1069995]\n\tOrdinal0 [0x00A85650+1070672]\n\tOrdinal0 [0x00AAE212+1237522]\n\tOrdinal0 [0x00AAE69B+1238683]\n\tOrdinal0 [0x00AD928C+1413772]\n\tOrdinal0 [0x00AC7B54+1342292]\n\tOrdinal0 [0x00AD75FA+1406458]\n\tOrdinal0 [0x00AC7976+1341814]\n\tOrdinal0 [0x00AA36B6+1193654]\n\tOrdinal0 [0x00AA4546+1197382]\n\tGetHandleVerifier [0x00D89622+1619522]\n\tGetHandleVerifier [0x00E3882C+2336844]\n\tGetHandleVerifier [0x00C823E1+541697]\n\tGetHandleVerifier [0x00C81443+537699]\n\tOrdinal0 [0x00B8D18E+2150798]\n\tOrdinal0 [0x00B91518+2168088]\n\tOrdinal0 [0x00B91660+2168416]\n\tOrdinal0 [0x00B9B330+2208560]\n\tBaseThreadInitThunk [0x775EFA29+25]\n\tRtlGetAppContainerNamedObjectPath [0x77DD7A9E+286]\n\tRtlGetAppContainerNamedObjectPath [0x77DD7A6E+238]\n",
     "output_type": "error",
     "traceback": [
      "\u001b[1;31m---------------------------------------------------------------------------\u001b[0m",
      "\u001b[1;31mWebDriverException\u001b[0m                        Traceback (most recent call last)",
      "\u001b[1;32m<ipython-input-155-40cfa9550892>\u001b[0m in \u001b[0;36m<module>\u001b[1;34m\u001b[0m\n\u001b[0;32m     57\u001b[0m             \u001b[0mkm\u001b[0m\u001b[1;33m.\u001b[0m\u001b[0mappend\u001b[0m\u001b[1;33m(\u001b[0m\u001b[0mi\u001b[0m\u001b[1;33m.\u001b[0m\u001b[0mtext\u001b[0m\u001b[1;33m.\u001b[0m\u001b[0msplit\u001b[0m\u001b[1;33m(\u001b[0m\u001b[1;33m)\u001b[0m\u001b[1;33m[\u001b[0m\u001b[1;33m-\u001b[0m\u001b[1;36m2\u001b[0m\u001b[1;33m]\u001b[0m\u001b[1;33m)\u001b[0m\u001b[1;33m\u001b[0m\u001b[1;33m\u001b[0m\u001b[0m\n\u001b[0;32m     58\u001b[0m         \u001b[1;31m#finding the area and date of add posted tags\u001b[0m\u001b[1;33m\u001b[0m\u001b[1;33m\u001b[0m\u001b[1;33m\u001b[0m\u001b[0m\n\u001b[1;32m---> 59\u001b[1;33m         \u001b[0mad\u001b[0m\u001b[1;33m=\u001b[0m\u001b[0mdriver\u001b[0m\u001b[1;33m.\u001b[0m\u001b[0mfind_elements_by_xpath\u001b[0m\u001b[1;33m(\u001b[0m\u001b[1;34m'//div[@class=\"_31uw8\"]/div[@class=\"_1zvfB\"]'\u001b[0m\u001b[1;33m)\u001b[0m\u001b[1;33m\u001b[0m\u001b[1;33m\u001b[0m\u001b[0m\n\u001b[0m\u001b[0;32m     60\u001b[0m         \u001b[1;32mfor\u001b[0m \u001b[0mi\u001b[0m \u001b[1;32min\u001b[0m \u001b[0mad\u001b[0m\u001b[1;33m:\u001b[0m\u001b[1;33m\u001b[0m\u001b[1;33m\u001b[0m\u001b[0m\n\u001b[0;32m     61\u001b[0m             \u001b[0marea\u001b[0m\u001b[1;33m.\u001b[0m\u001b[0mappend\u001b[0m\u001b[1;33m(\u001b[0m\u001b[0mi\u001b[0m\u001b[1;33m.\u001b[0m\u001b[0mtext\u001b[0m\u001b[1;33m.\u001b[0m\u001b[0msplit\u001b[0m\u001b[1;33m(\u001b[0m\u001b[1;34m'\\n'\u001b[0m\u001b[1;33m)\u001b[0m\u001b[1;33m[\u001b[0m\u001b[1;36m0\u001b[0m\u001b[1;33m]\u001b[0m\u001b[1;33m)\u001b[0m\u001b[1;33m\u001b[0m\u001b[1;33m\u001b[0m\u001b[0m\n",
      "\u001b[1;32m~\\anaconda3\\lib\\site-packages\\selenium\\webdriver\\remote\\webdriver.py\u001b[0m in \u001b[0;36mfind_elements_by_xpath\u001b[1;34m(self, xpath)\u001b[0m\n\u001b[0;32m    541\u001b[0m             \u001b[0mstacklevel\u001b[0m\u001b[1;33m=\u001b[0m\u001b[1;36m2\u001b[0m\u001b[1;33m,\u001b[0m\u001b[1;33m\u001b[0m\u001b[1;33m\u001b[0m\u001b[0m\n\u001b[0;32m    542\u001b[0m         )\n\u001b[1;32m--> 543\u001b[1;33m         \u001b[1;32mreturn\u001b[0m \u001b[0mself\u001b[0m\u001b[1;33m.\u001b[0m\u001b[0mfind_elements\u001b[0m\u001b[1;33m(\u001b[0m\u001b[0mby\u001b[0m\u001b[1;33m=\u001b[0m\u001b[0mBy\u001b[0m\u001b[1;33m.\u001b[0m\u001b[0mXPATH\u001b[0m\u001b[1;33m,\u001b[0m \u001b[0mvalue\u001b[0m\u001b[1;33m=\u001b[0m\u001b[0mxpath\u001b[0m\u001b[1;33m)\u001b[0m\u001b[1;33m\u001b[0m\u001b[1;33m\u001b[0m\u001b[0m\n\u001b[0m\u001b[0;32m    544\u001b[0m \u001b[1;33m\u001b[0m\u001b[0m\n\u001b[0;32m    545\u001b[0m     \u001b[1;32mdef\u001b[0m \u001b[0mfind_element_by_link_text\u001b[0m\u001b[1;33m(\u001b[0m\u001b[0mself\u001b[0m\u001b[1;33m,\u001b[0m \u001b[0mlink_text\u001b[0m\u001b[1;33m)\u001b[0m \u001b[1;33m->\u001b[0m \u001b[0mWebElement\u001b[0m\u001b[1;33m:\u001b[0m\u001b[1;33m\u001b[0m\u001b[1;33m\u001b[0m\u001b[0m\n",
      "\u001b[1;32m~\\anaconda3\\lib\\site-packages\\selenium\\webdriver\\remote\\webdriver.py\u001b[0m in \u001b[0;36mfind_elements\u001b[1;34m(self, by, value)\u001b[0m\n\u001b[0;32m   1277\u001b[0m         \u001b[1;31m# Return empty list if driver returns null\u001b[0m\u001b[1;33m\u001b[0m\u001b[1;33m\u001b[0m\u001b[1;33m\u001b[0m\u001b[0m\n\u001b[0;32m   1278\u001b[0m         \u001b[1;31m# See https://github.com/SeleniumHQ/selenium/issues/4555\u001b[0m\u001b[1;33m\u001b[0m\u001b[1;33m\u001b[0m\u001b[1;33m\u001b[0m\u001b[0m\n\u001b[1;32m-> 1279\u001b[1;33m         return self.execute(Command.FIND_ELEMENTS, {\n\u001b[0m\u001b[0;32m   1280\u001b[0m             \u001b[1;34m'using'\u001b[0m\u001b[1;33m:\u001b[0m \u001b[0mby\u001b[0m\u001b[1;33m,\u001b[0m\u001b[1;33m\u001b[0m\u001b[1;33m\u001b[0m\u001b[0m\n\u001b[0;32m   1281\u001b[0m             'value': value})['value'] or []\n",
      "\u001b[1;32m~\\anaconda3\\lib\\site-packages\\selenium\\webdriver\\remote\\webdriver.py\u001b[0m in \u001b[0;36mexecute\u001b[1;34m(self, driver_command, params)\u001b[0m\n\u001b[0;32m    422\u001b[0m         \u001b[0mresponse\u001b[0m \u001b[1;33m=\u001b[0m \u001b[0mself\u001b[0m\u001b[1;33m.\u001b[0m\u001b[0mcommand_executor\u001b[0m\u001b[1;33m.\u001b[0m\u001b[0mexecute\u001b[0m\u001b[1;33m(\u001b[0m\u001b[0mdriver_command\u001b[0m\u001b[1;33m,\u001b[0m \u001b[0mparams\u001b[0m\u001b[1;33m)\u001b[0m\u001b[1;33m\u001b[0m\u001b[1;33m\u001b[0m\u001b[0m\n\u001b[0;32m    423\u001b[0m         \u001b[1;32mif\u001b[0m \u001b[0mresponse\u001b[0m\u001b[1;33m:\u001b[0m\u001b[1;33m\u001b[0m\u001b[1;33m\u001b[0m\u001b[0m\n\u001b[1;32m--> 424\u001b[1;33m             \u001b[0mself\u001b[0m\u001b[1;33m.\u001b[0m\u001b[0merror_handler\u001b[0m\u001b[1;33m.\u001b[0m\u001b[0mcheck_response\u001b[0m\u001b[1;33m(\u001b[0m\u001b[0mresponse\u001b[0m\u001b[1;33m)\u001b[0m\u001b[1;33m\u001b[0m\u001b[1;33m\u001b[0m\u001b[0m\n\u001b[0m\u001b[0;32m    425\u001b[0m             response['value'] = self._unwrap_value(\n\u001b[0;32m    426\u001b[0m                 response.get('value', None))\n",
      "\u001b[1;32m~\\anaconda3\\lib\\site-packages\\selenium\\webdriver\\remote\\errorhandler.py\u001b[0m in \u001b[0;36mcheck_response\u001b[1;34m(self, response)\u001b[0m\n\u001b[0;32m    245\u001b[0m                 \u001b[0malert_text\u001b[0m \u001b[1;33m=\u001b[0m \u001b[0mvalue\u001b[0m\u001b[1;33m[\u001b[0m\u001b[1;34m'alert'\u001b[0m\u001b[1;33m]\u001b[0m\u001b[1;33m.\u001b[0m\u001b[0mget\u001b[0m\u001b[1;33m(\u001b[0m\u001b[1;34m'text'\u001b[0m\u001b[1;33m)\u001b[0m\u001b[1;33m\u001b[0m\u001b[1;33m\u001b[0m\u001b[0m\n\u001b[0;32m    246\u001b[0m             \u001b[1;32mraise\u001b[0m \u001b[0mexception_class\u001b[0m\u001b[1;33m(\u001b[0m\u001b[0mmessage\u001b[0m\u001b[1;33m,\u001b[0m \u001b[0mscreen\u001b[0m\u001b[1;33m,\u001b[0m \u001b[0mstacktrace\u001b[0m\u001b[1;33m,\u001b[0m \u001b[0malert_text\u001b[0m\u001b[1;33m)\u001b[0m  \u001b[1;31m# type: ignore[call-arg]  # mypy is not smart enough here\u001b[0m\u001b[1;33m\u001b[0m\u001b[1;33m\u001b[0m\u001b[0m\n\u001b[1;32m--> 247\u001b[1;33m         \u001b[1;32mraise\u001b[0m \u001b[0mexception_class\u001b[0m\u001b[1;33m(\u001b[0m\u001b[0mmessage\u001b[0m\u001b[1;33m,\u001b[0m \u001b[0mscreen\u001b[0m\u001b[1;33m,\u001b[0m \u001b[0mstacktrace\u001b[0m\u001b[1;33m)\u001b[0m\u001b[1;33m\u001b[0m\u001b[1;33m\u001b[0m\u001b[0m\n\u001b[0m\u001b[0;32m    248\u001b[0m \u001b[1;33m\u001b[0m\u001b[0m\n\u001b[0;32m    249\u001b[0m     \u001b[1;32mdef\u001b[0m \u001b[0m_value_or_default\u001b[0m\u001b[1;33m(\u001b[0m\u001b[0mself\u001b[0m\u001b[1;33m,\u001b[0m \u001b[0mobj\u001b[0m\u001b[1;33m:\u001b[0m \u001b[0mMapping\u001b[0m\u001b[1;33m[\u001b[0m\u001b[0m_KT\u001b[0m\u001b[1;33m,\u001b[0m \u001b[0m_VT\u001b[0m\u001b[1;33m]\u001b[0m\u001b[1;33m,\u001b[0m \u001b[0mkey\u001b[0m\u001b[1;33m:\u001b[0m \u001b[0m_KT\u001b[0m\u001b[1;33m,\u001b[0m \u001b[0mdefault\u001b[0m\u001b[1;33m:\u001b[0m \u001b[0m_VT\u001b[0m\u001b[1;33m)\u001b[0m \u001b[1;33m->\u001b[0m \u001b[0m_VT\u001b[0m\u001b[1;33m:\u001b[0m\u001b[1;33m\u001b[0m\u001b[1;33m\u001b[0m\u001b[0m\n",
      "\u001b[1;31mWebDriverException\u001b[0m: Message: disconnected: Unable to receive message from renderer\n  (Session info: chrome=97.0.4692.71)\nStacktrace:\nBacktrace:\n\tOrdinal0 [0x00BEFDC3+2555331]\n\tOrdinal0 [0x00B877F1+2127857]\n\tOrdinal0 [0x00A82E08+1060360]\n\tOrdinal0 [0x00A75461+1004641]\n\tOrdinal0 [0x00A743FA+1000442]\n\tOrdinal0 [0x00A747C7+1001415]\n\tOrdinal0 [0x00A8ABC0+1092544]\n\tOrdinal0 [0x00A8505B+1069147]\n\tOrdinal0 [0x00A84BD5+1067989]\n\tOrdinal0 [0x00A853AB+1069995]\n\tOrdinal0 [0x00A85650+1070672]\n\tOrdinal0 [0x00AAE212+1237522]\n\tOrdinal0 [0x00AAE69B+1238683]\n\tOrdinal0 [0x00AD928C+1413772]\n\tOrdinal0 [0x00AC7B54+1342292]\n\tOrdinal0 [0x00AD75FA+1406458]\n\tOrdinal0 [0x00AC7976+1341814]\n\tOrdinal0 [0x00AA36B6+1193654]\n\tOrdinal0 [0x00AA4546+1197382]\n\tGetHandleVerifier [0x00D89622+1619522]\n\tGetHandleVerifier [0x00E3882C+2336844]\n\tGetHandleVerifier [0x00C823E1+541697]\n\tGetHandleVerifier [0x00C81443+537699]\n\tOrdinal0 [0x00B8D18E+2150798]\n\tOrdinal0 [0x00B91518+2168088]\n\tOrdinal0 [0x00B91660+2168416]\n\tOrdinal0 [0x00B9B330+2208560]\n\tBaseThreadInitThunk [0x775EFA29+25]\n\tRtlGetAppContainerNamedObjectPath [0x77DD7A9E+286]\n\tRtlGetAppContainerNamedObjectPath [0x77DD7A6E+238]\n"
     ]
    }
   ],
   "source": [
    "# getting the state names from the olx website\n",
    "location=driver.find_elements_by_xpath('//a[@class=\"_396bV _2zs4P _1nXYG\"]')\n",
    "prices=[]\n",
    "date=[]\n",
    "area=[]\n",
    "company=[]\n",
    "name=[]\n",
    "year=[]\n",
    "km=[]\n",
    "state=[]\n",
    "o=10\n",
    "for i in range(1,len(location)):\n",
    "    if i<=5:\n",
    "        k=driver.find_element_by_xpath('//ul[@class=\"_3eZBP\"]/li['+str(i)+']/a[@class=\"_396bV _2zs4P _1nXYG\"]')\n",
    "    else:\n",
    "        j=i-5\n",
    "        print(j)\n",
    "        k=driver.find_element_by_xpath('//div[1]/li['+str(j)+']/a[@class=\"_396bV _2zs4P _1nXYG\"]')\n",
    "    #state name\n",
    "    #no of cars in that state were posted for add \n",
    "    Nc=''\n",
    "    for j in nc.split(','):\n",
    "        Nc=Nc+j\n",
    "    Nc\n",
    "    #clicking on that specfic state for going to collect the car details\n",
    "    k.click()\n",
    "    time.sleep(5)\n",
    "    if int(Nc)<=1000:\n",
    "        M=int(Nc)\n",
    "    else:\n",
    "        M=1000\n",
    "    o=o+len(prices)\n",
    "    while len(prices)<o:\n",
    "        # finding the car price tag\n",
    "        price=driver.find_elements_by_xpath('//div[@class=\"_31uw8\"]/span[@class=\"_3GOwr\"]')\n",
    "        for i in price:\n",
    "            prices.append(i.text.split(' ')[1])\n",
    "        # collecting the company name and car name tag\n",
    "        cn=driver.find_elements_by_xpath('//div[@class=\"_31uw8\"]/div[@class=\"_4aNdc\"]')\n",
    "        for i in cn:\n",
    "            if i.text.split(' ')[0]=='Maruti':\n",
    "                company.append('Maruti Suzuki')\n",
    "                I=''\n",
    "                for i in i.text.split(' ')[2:]:\n",
    "                    I=I+i+' '\n",
    "                name.append(I.strip())\n",
    "            else:\n",
    "                company.append(i.text.split(' ')[0])\n",
    "                I=''\n",
    "                for i in i.text.split(' ')[1:]:\n",
    "                    I=I+i+' '\n",
    "                name.append(I.strip())\n",
    "        #finding the year and kilometers driven tag\n",
    "        yk=driver.find_elements_by_xpath('//div[@class=\"_31uw8\"]/div[@class=\"KFHpP\"]')\n",
    "        for i in yk:\n",
    "            year.append(i.text.split()[0])\n",
    "            km.append(i.text.split()[-2])\n",
    "        #finding the area and date of add posted tags\n",
    "        ad=driver.find_elements_by_xpath('//div[@class=\"_31uw8\"]/div[@class=\"_1zvfB\"]')\n",
    "        for i in ad:\n",
    "            area.append(i.text.split('\\n')[0])\n",
    "            try:\n",
    "                date.append(i.text.split('\\n')[1])\n",
    "            except IndexError:\n",
    "                date.append('no date') \n",
    "        # finding the tag for next page button\n",
    "        np=driver.find_element_by_xpath('//button[@class=\"rui-39-wj rui-3evoE rui-1JPTg\"]')\n",
    "        #clicking on the next page button\n",
    "        np.click()\n",
    "        print(len(prices))\n",
    "        time.sleep(5)\n",
    "    driver.find_element_by_xpath('//div[@class=\"rui-3unfU\"]').click()\n",
    "    driver.find_element_by_xpath('//div[@class=\"_3zgcG\"]').click()\n",
    "    "
   ]
  },
  {
   "cell_type": "code",
   "execution_count": 151,
   "id": "98a1c560",
   "metadata": {},
   "outputs": [
    {
     "data": {
      "text/plain": [
       "40"
      ]
     },
     "execution_count": 151,
     "metadata": {},
     "output_type": "execute_result"
    }
   ],
   "source": [
    "len(prices)"
   ]
  },
  {
   "cell_type": "code",
   "execution_count": 153,
   "id": "836f15a2",
   "metadata": {},
   "outputs": [],
   "source": [
    "driver.find_element_by_xpath('//div[@class=\"rui-3unfU\"]').click()"
   ]
  },
  {
   "cell_type": "code",
   "execution_count": null,
   "id": "f78ce67d",
   "metadata": {},
   "outputs": [],
   "source": [
    "location=driver.find_elements_by_xpath('//a[@class=\"_396bV _2zs4P _1nXYG\"]')"
   ]
  },
  {
   "cell_type": "code",
   "execution_count": null,
   "id": "6f7ba95b",
   "metadata": {},
   "outputs": [],
   "source": [
    "location[2].text"
   ]
  },
  {
   "cell_type": "code",
   "execution_count": null,
   "id": "8b0869bf",
   "metadata": {},
   "outputs": [],
   "source": [
    "driver.find_element_by_xpath('//ul[@class=\"_3eZBP\"]/li[4]/a[@class=\"_396bV _2zs4P _1nXYG\"]').click()"
   ]
  },
  {
   "cell_type": "code",
   "execution_count": null,
   "id": "776d3139",
   "metadata": {},
   "outputs": [],
   "source": [
    "driver.find_element_by_xpath('//div[@class=\"_3zgcG\"]').click()"
   ]
  },
  {
   "cell_type": "code",
   "execution_count": null,
   "id": "d9616d5a",
   "metadata": {},
   "outputs": [],
   "source": [
    "driver.find_element_by_xpath('//div[@class=\"_3zgcG\"]').click()\n",
    "for i in range(1,len(location)):\n",
    "    if i<=5:\n",
    "        k=driver.find_element_by_xpath('//ul[@class=\"_3eZBP\"]/li['+str(i)+']/a[@class=\"_396bV _2zs4P _1nXYG\"]')\n",
    "        k.text\n",
    "    else:\n",
    "        j=i-5\n",
    "        print(j)\n",
    "        k=driver.find_element_by_xpath('//div[1]/li['+str(j)+']/a[@class=\"_396bV _2zs4P _1nXYG\"]')\n",
    "        k.text\n",
    "    k.click()\n",
    "    time.sleep(1)\n",
    "    \n",
    "    driver.find_element_by_xpath('//div[@class=\"_3zgcG\"]').click()\n",
    "    "
   ]
  },
  {
   "cell_type": "code",
   "execution_count": null,
   "id": "6f72584b",
   "metadata": {},
   "outputs": [],
   "source": [
    "for i in range(1,len(location)):\n",
    "    if i<=5:\n",
    "        k=driver.find_element_by_xpath('//ul[@class=\"_3eZBP\"]/li['+str(i)+']/a[@class=\"_396bV _2zs4P _1nXYG\"]')\n",
    "    else:\n",
    "        j=i-5\n",
    "        k=driver.find_element_by_xpath('//div[1]/li['+str(j)+']/a[@class=\"_396bV _2zs4P _1nXYG\"]').click()"
   ]
  },
  {
   "cell_type": "code",
   "execution_count": null,
   "id": "e2c42f89",
   "metadata": {},
   "outputs": [],
   "source": [
    "len(location)"
   ]
  },
  {
   "cell_type": "code",
   "execution_count": null,
   "id": "67e1b2ce",
   "metadata": {},
   "outputs": [],
   "source": [
    "driver.find_element_by_xpath('//div[1]/li[7]/a[@class=\"_396bV _2zs4P _1nXYG\"]').click()"
   ]
  },
  {
   "cell_type": "code",
   "execution_count": null,
   "id": "01d109e9",
   "metadata": {},
   "outputs": [],
   "source": [
    "prices[0]"
   ]
  },
  {
   "cell_type": "code",
   "execution_count": null,
   "id": "1a4800b7",
   "metadata": {},
   "outputs": [],
   "source": [
    "cn=driver.find_elements_by_xpath('//div[@class=\"_31uw8\"]/div[@class=\"_4aNdc\"]')"
   ]
  },
  {
   "cell_type": "code",
   "execution_count": null,
   "id": "bc533b3d",
   "metadata": {},
   "outputs": [],
   "source": [
    "company=[]\n",
    "name=[]\n",
    "for i in cn:\n",
    "    if i.text.split(' ')[0]=='Maruti':\n",
    "        company.append('Maruti Suzuki')\n",
    "        I=''\n",
    "        for i in i.text.split(' ')[2:]:\n",
    "            I=I+i+' '\n",
    "            I.strip()\n",
    "        name.append(I.strip())\n",
    "    else:\n",
    "        company.append(i.text.split(' ')[0])\n",
    "        I=''\n",
    "        for i in i.text.split(' ')[1:]:\n",
    "            I=I+i+' '\n",
    "        name.append(I.strip())\n",
    "        "
   ]
  },
  {
   "cell_type": "code",
   "execution_count": null,
   "id": "a75ad633",
   "metadata": {},
   "outputs": [],
   "source": [
    "yk=driver.find_elements_by_xpath('//div[@class=\"_31uw8\"]/div[@class=\"KFHpP\"]')"
   ]
  },
  {
   "cell_type": "code",
   "execution_count": null,
   "id": "dab83ec4",
   "metadata": {},
   "outputs": [],
   "source": [
    "year=[]\n",
    "km=[]\n",
    "for i in yk:\n",
    "    year.append(i.text.split()[0])\n",
    "    km.append(i.text.split()[-2])"
   ]
  },
  {
   "cell_type": "code",
   "execution_count": null,
   "id": "2408cc07",
   "metadata": {},
   "outputs": [],
   "source": [
    "ad=driver.find_elements_by_xpath('//div[@class=\"_31uw8\"]/div[@class=\"_1zvfB\"]')\n",
    "area=[]\n",
    "date=[]\n",
    "state=[]\n",
    "for i in ad:\n",
    "    area.append(i.text.split('\\n')[0])\n",
    "    date.append(i.text.split('\\n')[1])\n",
    "    state.append(St)\n",
    "    "
   ]
  },
  {
   "cell_type": "code",
   "execution_count": null,
   "id": "91432efe",
   "metadata": {},
   "outputs": [],
   "source": [
    "np=driver.find_element_by_xpath('//button[@class=\"rui-39-wj rui-3evoE rui-1JPTg\"]')"
   ]
  },
  {
   "cell_type": "code",
   "execution_count": 123,
   "id": "15d44a5a",
   "metadata": {},
   "outputs": [],
   "source": [
    "driver.find_element_by_xpath('//div[@class=\"rui-3unfU\"]').click()"
   ]
  },
  {
   "cell_type": "code",
   "execution_count": 104,
   "id": "0b37f8d1",
   "metadata": {},
   "outputs": [],
   "source": [
    "ActionChains.key_up?"
   ]
  },
  {
   "cell_type": "code",
   "execution_count": null,
   "id": "40964fcf",
   "metadata": {},
   "outputs": [],
   "source": [
    "i.text"
   ]
  },
  {
   "cell_type": "code",
   "execution_count": 120,
   "id": "f75a8297",
   "metadata": {},
   "outputs": [],
   "source": [
    "ActionChains(driver, duration=10000).key_up(Keys.ARROW_UP).perform()"
   ]
  },
  {
   "cell_type": "code",
   "execution_count": null,
   "id": "0a5e8fcc",
   "metadata": {},
   "outputs": [],
   "source": []
  }
 ],
 "metadata": {
  "kernelspec": {
   "display_name": "Python 3",
   "language": "python",
   "name": "python3"
  },
  "language_info": {
   "codemirror_mode": {
    "name": "ipython",
    "version": 3
   },
   "file_extension": ".py",
   "mimetype": "text/x-python",
   "name": "python",
   "nbconvert_exporter": "python",
   "pygments_lexer": "ipython3",
   "version": "3.8.8"
  }
 },
 "nbformat": 4,
 "nbformat_minor": 5
}
